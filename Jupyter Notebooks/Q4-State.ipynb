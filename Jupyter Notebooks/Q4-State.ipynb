{
 "cells": [
  {
   "cell_type": "code",
   "execution_count": 1,
   "metadata": {},
   "outputs": [],
   "source": [
    "import numpy as np\n",
    "import pandas as pd\n",
    "import csv\n",
    "import matplotlib.pyplot as plt\n",
    "import seaborn as sns\n",
    "from scipy.signal import find_peaks\n",
    "import datetime"
   ]
  },
  {
   "cell_type": "code",
   "execution_count": 2,
   "metadata": {},
   "outputs": [],
   "source": [
    "data=pd.read_csv('../Data/states.csv')"
   ]
  },
  {
   "cell_type": "code",
   "execution_count": 3,
   "metadata": {},
   "outputs": [],
   "source": [
    "state_data=data[data['State']!='India'].iloc[121:,:].reset_index().drop('index',axis=1)"
   ]
  },
  {
   "cell_type": "code",
   "execution_count": 4,
   "metadata": {},
   "outputs": [],
   "source": [
    "state_data=state_data[state_data['State']!='State Unassigned']"
   ]
  },
  {
   "cell_type": "markdown",
   "metadata": {},
   "source": [
    "# State"
   ]
  },
  {
   "cell_type": "markdown",
   "metadata": {},
   "source": [
    "**Week Wise**"
   ]
  },
  {
   "cell_type": "code",
   "execution_count": 5,
   "metadata": {},
   "outputs": [],
   "source": [
    "dates=list(set(state_data['Date'].values))\n",
    "dates=sorted(dates, key=lambda x: datetime.datetime.strptime(x, '%Y-%m-%d'))\n",
    "dates=dates[:518]"
   ]
  },
  {
   "cell_type": "code",
   "execution_count": 6,
   "metadata": {},
   "outputs": [],
   "source": [
    "w1=[]\n",
    "c=1"
   ]
  },
  {
   "cell_type": "code",
   "execution_count": 7,
   "metadata": {},
   "outputs": [],
   "source": [
    "for i in range(0,74):\n",
    "    start_day=7*i\n",
    "    subtract_date=start_day-1\n",
    "    end_day=start_day+6\n",
    "    week_count={}\n",
    "    week_data=state_data[state_data['Date']==dates[end_day]]\n",
    "    if subtract_date>=0:\n",
    "      sub_data=state_data[state_data['Date']==dates[subtract_date]]\n",
    "      old_state_ids=sub_data['State'].values\n",
    "    state_ids=week_data['State'].values\n",
    "    \n",
    "    for k in state_ids:\n",
    "      if k not in week_count.keys():\n",
    "        week_count[k]=0\n",
    "      x=week_data[week_data['State']==k]['Confirmed']\n",
    "      if subtract_date>=0:\n",
    "        if k in old_state_ids: \n",
    "          week_count[k]=x.values[0]-sub_data[sub_data['State']==k]['Confirmed'].values[0]\n",
    "        else:\n",
    "          week_count[k]=x.values[0]\n",
    "\n",
    "      else:\n",
    "        week_count[k]=x.values[0]\n",
    "      w1.append((k,'week'+str(c),week_count[k]))\n",
    "    \n",
    "    c+=2"
   ]
  },
  {
   "cell_type": "code",
   "execution_count": 8,
   "metadata": {},
   "outputs": [],
   "source": [
    "dates=list(set(state_data['Date'].values))\n",
    "dates=sorted(dates, key=lambda x: datetime.datetime.strptime(x, '%Y-%m-%d'))\n",
    "dates=dates[4:][:518]\n"
   ]
  },
  {
   "cell_type": "code",
   "execution_count": 9,
   "metadata": {},
   "outputs": [],
   "source": [
    "c=2"
   ]
  },
  {
   "cell_type": "code",
   "execution_count": 10,
   "metadata": {},
   "outputs": [],
   "source": [
    "for i in range(0,74):\n",
    "    start_day=7*i\n",
    "    subtract_date=start_day-1\n",
    "    end_day=start_day+6\n",
    "    week_count={}\n",
    "    week_data=state_data[state_data['Date']==dates[end_day]]\n",
    "    if subtract_date>=0:\n",
    "      sub_data=state_data[state_data['Date']==dates[subtract_date]]\n",
    "      old_state_ids=sub_data['State'].values\n",
    "    state_ids=week_data['State'].values\n",
    "    \n",
    "    for k in state_ids:\n",
    "      if k not in week_count.keys():\n",
    "        week_count[k]=0\n",
    "      x=week_data[week_data['State']==k]['Confirmed']\n",
    "      if subtract_date>=0:\n",
    "        if k in old_state_ids: \n",
    "          week_count[k]=x.values[0]-sub_data[sub_data['State']==k]['Confirmed'].values[0]\n",
    "        else:\n",
    "          week_count[k]=x.values[0]\n",
    "\n",
    "      else:\n",
    "        week_count[k]=x.values[0]\n",
    "      w1.append((k,'week'+str(c),week_count[k]))\n",
    "    \n",
    "    c+=2"
   ]
  },
  {
   "cell_type": "code",
   "execution_count": 11,
   "metadata": {},
   "outputs": [],
   "source": [
    "def Sort_Tuple(tup): \n",
    "    return(sorted(tup, key = lambda x: int(x[1].replace('week',''))))"
   ]
  },
  {
   "cell_type": "code",
   "execution_count": 12,
   "metadata": {},
   "outputs": [],
   "source": [
    "w1=Sort_Tuple(w1)"
   ]
  },
  {
   "cell_type": "markdown",
   "metadata": {},
   "source": [
    "**Month**"
   ]
  },
  {
   "cell_type": "code",
   "execution_count": 13,
   "metadata": {},
   "outputs": [],
   "source": [
    "dates=list(set(state_data['Date'].values))\n",
    "dates=sorted(dates, key=lambda x: datetime.datetime.strptime(x, '%Y-%m-%d'))\n",
    "dates=dates[:510]"
   ]
  },
  {
   "cell_type": "code",
   "execution_count": 14,
   "metadata": {},
   "outputs": [],
   "source": [
    "m=[]\n",
    "c=1"
   ]
  },
  {
   "cell_type": "code",
   "execution_count": 15,
   "metadata": {},
   "outputs": [],
   "source": [
    "for i in range(0,17):\n",
    "    start_day=30*i\n",
    "    subtract_date=start_day-1\n",
    "    end_day=start_day+29\n",
    "    month_count={}\n",
    "    month_data=state_data[state_data['Date']==dates[end_day]]\n",
    "    if subtract_date>=0:\n",
    "      sub_data=state_data[state_data['Date']==dates[subtract_date]]\n",
    "      old_state_ids=sub_data['State'].values\n",
    "    state_ids=month_data['State'].values\n",
    "    \n",
    "    for k in state_ids:\n",
    "      if k not in month_count.keys():\n",
    "        month_count[k]=0\n",
    "      x=month_data[month_data['State']==k]['Confirmed']\n",
    "      if subtract_date>=0:\n",
    "        if k in old_state_ids: \n",
    "          month_count[k]=x.values[0]-sub_data[sub_data['State']==k]['Confirmed'].values[0]\n",
    "        else:\n",
    "          month_count[k]=x.values[0]\n",
    "\n",
    "      else:\n",
    "        month_count[k]=x.values[0]\n",
    "      m.append((k,'month'+str(c),month_count[k]))\n",
    "    \n",
    "    c+=1"
   ]
  },
  {
   "cell_type": "code",
   "execution_count": 16,
   "metadata": {},
   "outputs": [],
   "source": [
    "k=list(set(state_data['State'].values))\n",
    "dates=sorted(dates, key=lambda x: datetime.datetime.strptime(x, '%Y-%m-%d'))\n",
    "k.remove('Lakshadweep')"
   ]
  },
  {
   "cell_type": "code",
   "execution_count": 17,
   "metadata": {},
   "outputs": [],
   "source": [
    "state_dict=[]\n",
    "for d_id in k:\n",
    "    cases_week=[(h[1],h[2]) for h in w1 if h[0]==d_id]\n",
    "    cases_month=[(h[1],h[2]) for h in m if h[0]==d_id]\n",
    "    #Week\n",
    "    x1=[int(i[0].replace('week',\"\")) for i in cases_week]\n",
    "    y1=[i[1] for i in cases_week]\n",
    "    z1=find_peaks(y1)\n",
    "    wave1=[i for i in z1[0] if i<80]\n",
    "    wave2=[i for i in z1[0] if i>80]\n",
    "    i_w1=0\n",
    "    for i in wave1:\n",
    "        if y1[i_w1]<y1[i]:\n",
    "            i_w1=i\n",
    "    #print(d_id,\" week \",x1[i_w1],' value ',y1[i_w1])\n",
    "    i_w2=80\n",
    "    for i in wave2:\n",
    "        if y1[i_w2]<y1[i]:\n",
    "            i_w2=i\n",
    "    #print(d_id,\" week \",x1[i_w2],' value ',y1[i_w2])\n",
    "    #Month\n",
    "    \n",
    "    x2=[int(i[0].replace('month',\"\")) for i in cases_month]\n",
    "    y2=[i[1] for i in cases_month]\n",
    "    z2=find_peaks(y2)\n",
    "    wave1=[i for i in z2[0] if i<10]\n",
    "    wave2=[i for i in z2[0] if i>10]\n",
    "    i_m1=0\n",
    "    for i in wave1:\n",
    "        if y2[i_m1]<y2[i]:\n",
    "            i_m1=i\n",
    "    #print(d_id,\" month \",x2[i_m1],' value ',y2[i_m1])\n",
    "    i_m2=10\n",
    "    for i in wave2:\n",
    "        if y2[i_m2]<y2[i]:\n",
    "            i_m2=i\n",
    "    #print(d_id,\" month \",x2[i_m2],' value ',y2[i_m2])\n",
    "    state_dict.append((d_id,'week'+str(x1[i_w1]),'week'+str(x1[i_w2]),'month'+str(x2[i_m1]),'month'+str(x2[i_m2])))\n",
    "    "
   ]
  },
  {
   "cell_type": "code",
   "execution_count": 18,
   "metadata": {},
   "outputs": [],
   "source": [
    "state_dict.insert(0,('State','Wave 1 Week Id','Wave 2 Week Id','Wave 1 Month Id','Wave 2 Month Id'))"
   ]
  },
  {
   "cell_type": "code",
   "execution_count": 19,
   "metadata": {},
   "outputs": [],
   "source": [
    "file = open('../Generated/4/state-peak.csv', 'w+', newline ='')\n",
    "  \n",
    "# writing the data into the file\n",
    "with file:    \n",
    "    write = csv.writer(file)\n",
    "    write.writerows(state_dict)"
   ]
  }
 ],
 "metadata": {
  "kernelspec": {
   "display_name": "Python 3",
   "language": "python",
   "name": "python3"
  },
  "language_info": {
   "codemirror_mode": {
    "name": "ipython",
    "version": 3
   },
   "file_extension": ".py",
   "mimetype": "text/x-python",
   "name": "python",
   "nbconvert_exporter": "python",
   "pygments_lexer": "ipython3",
   "version": "3.7.3"
  }
 },
 "nbformat": 4,
 "nbformat_minor": 2
}

{
 "cells": [
  {
   "cell_type": "markdown",
   "metadata": {},
   "source": [
    "**Loading Libraries**"
   ]
  },
  {
   "cell_type": "code",
   "execution_count": 1,
   "metadata": {},
   "outputs": [],
   "source": [
    "import numpy as np\n",
    "import pandas as pd\n",
    "import csv\n",
    "import datetime"
   ]
  },
  {
   "cell_type": "markdown",
   "metadata": {},
   "source": [
    "**Loading Data and Preprocessing**"
   ]
  },
  {
   "cell_type": "code",
   "execution_count": 2,
   "metadata": {},
   "outputs": [],
   "source": [
    "data=pd.read_csv('../Data/vaccination_data_district_wise.csv',low_memory=False).fillna(0)"
   ]
  },
  {
   "cell_type": "markdown",
   "metadata": {},
   "source": [
    "**Weekly Data**"
   ]
  },
  {
   "cell_type": "markdown",
   "metadata": {},
   "source": [
    "Setting Dates Range "
   ]
  },
  {
   "cell_type": "code",
   "execution_count": 22,
   "metadata": {},
   "outputs": [],
   "source": [
    "dates=[]\n",
    "for i in data.columns[6:]:\n",
    "  dates.append(i.split('.')[0])\n",
    "dates=list(set(dates))\n",
    "dates=sorted(dates, key=lambda x: datetime.datetime.strptime(x, '%d/%m/%Y'))\n",
    "dates=dates[1:][:217]"
   ]
  },
  {
   "cell_type": "markdown",
   "metadata": {},
   "source": [
    "Data in Vaccination dataset is cumulative. We need to find the absolute data per week. So we have taken two index per week denoting start and end date of week and we subtract data[endweek] with data[start-1] (Which is data of previous week to get absolute value)\n",
    "\n",
    "Similar Approach for\n",
    "\n",
    "1) Week\n",
    "\n",
    "2) Month\n",
    "\n",
    "3) Overall"
   ]
  },
  {
   "cell_type": "code",
   "execution_count": 4,
   "metadata": {},
   "outputs": [],
   "source": [
    "w1=[]\n",
    "c=1"
   ]
  },
  {
   "cell_type": "code",
   "execution_count": 5,
   "metadata": {},
   "outputs": [],
   "source": [
    "for i in range(31):\n",
    "  start_day=7*i\n",
    "  subtract_date=start_day-1 \n",
    "  end_day=start_day+6\n",
    "  list_column=['S No', 'State_Code', 'State', 'District_Key', 'Cowin Key', 'District',dates[end_day]+'.3',dates[end_day]+'.4']\n",
    "  week_count={}\n",
    "  district_data=data[list_column].iloc[1:,:]\n",
    "  if subtract_date>=0:\n",
    "      list_old_column=['S No', 'State_Code', 'State', 'District_Key', 'Cowin Key', 'District',dates[subtract_date]+'.3',dates[subtract_date]+'.4']\n",
    "      sub_data=data[list_old_column].iloc[1:,:] \n",
    "      old_district_ids=sub_data['District_Key'].values\n",
    "  district_ids=district_data['District_Key'].values\n",
    "  for k in district_ids:\n",
    "      if k not in week_count.keys():\n",
    "        week_count[k]=[0,0]\n",
    "      x=district_data[district_data['District_Key']==k]\n",
    "      if subtract_date>=0:\n",
    "        if k in old_district_ids: \n",
    "          week_count[k][0]=int(x[dates[end_day]+'.3'].values[0])-int(sub_data[sub_data['District_Key']==k][dates[subtract_date]+'.3'].values[0])\n",
    "          week_count[k][1]=int(x[dates[end_day]+'.4'].values[0])-int(sub_data[sub_data['District_Key']==k][dates[subtract_date]+'.4'].values[0])\n",
    "        else:\n",
    "          week_count[k][0]=int(x[dates[end_day]+'.3'].values[0])\n",
    "          week_count[k][1]=int(x[dates[end_day]+'.4'].values[0])\n",
    "\n",
    "      else:\n",
    "        week_count[k][0]=int(x[dates[end_day]+'.3'].values[0])\n",
    "        week_count[k][1]=int(x[dates[end_day]+'.4'].values[0])\n",
    "      w1.append((k,'week'+str(c),week_count[k][0],week_count[k][1]))\n",
    "    \n",
    "  c+=1"
   ]
  },
  {
   "cell_type": "code",
   "execution_count": 6,
   "metadata": {},
   "outputs": [],
   "source": [
    "w1=sorted(w1, key = lambda x: x[0])"
   ]
  },
  {
   "cell_type": "code",
   "execution_count": 7,
   "metadata": {},
   "outputs": [],
   "source": [
    "w1.insert(0,('District','Time Id','Dose 1','Dose 2',))"
   ]
  },
  {
   "cell_type": "code",
   "execution_count": 8,
   "metadata": {},
   "outputs": [],
   "source": [
    "file = open('../Generated/5/district-vaccinated-count-week.csv', 'w+', newline ='')\n",
    "  \n",
    "# writing the data into the file\n",
    "with file:    \n",
    "    write = csv.writer(file)\n",
    "    write.writerows(w1)"
   ]
  },
  {
   "cell_type": "markdown",
   "metadata": {},
   "source": [
    "**Monthly Data**"
   ]
  },
  {
   "cell_type": "code",
   "execution_count": 9,
   "metadata": {},
   "outputs": [],
   "source": [
    "dates=[]\n",
    "for i in data.columns[6:]:\n",
    "  dates.append(i.split('.')[0])\n",
    "dates=list(set(dates))\n",
    "dates=sorted(dates, key=lambda x: datetime.datetime.strptime(x, '%d/%m/%Y'))\n",
    "dates=dates[:210]"
   ]
  },
  {
   "cell_type": "code",
   "execution_count": 10,
   "metadata": {},
   "outputs": [],
   "source": [
    "m=[]\n",
    "c=1"
   ]
  },
  {
   "cell_type": "code",
   "execution_count": 11,
   "metadata": {},
   "outputs": [],
   "source": [
    "for i in range(7):\n",
    "  start_day=30*i\n",
    "  subtract_date=start_day-1 \n",
    "  end_day=start_day+29\n",
    "  list_column=['S No', 'State_Code', 'State', 'District_Key', 'Cowin Key', 'District',dates[end_day]+'.3',dates[end_day]+'.4']\n",
    "  month_count={}\n",
    "  district_data=data[list_column].iloc[1:,:]\n",
    "  if subtract_date>=0:\n",
    "      list_old_column=['S No', 'State_Code', 'State', 'District_Key', 'Cowin Key', 'District',dates[subtract_date]+'.3',dates[subtract_date]+'.4']\n",
    "      sub_data=data[list_old_column].iloc[1:,:] \n",
    "      old_district_ids=sub_data['District_Key'].values\n",
    "  district_ids=district_data['District_Key'].values\n",
    "  for k in district_ids:\n",
    "      if k not in month_count.keys():\n",
    "        month_count[k]=[0,0]\n",
    "      x=district_data[district_data['District_Key']==k]\n",
    "      if subtract_date>=0:\n",
    "        if k in old_district_ids: \n",
    "          month_count[k][0]=int(x[dates[end_day]+'.3'].values[0])-int(sub_data[sub_data['District_Key']==k][dates[subtract_date]+'.3'].values[0])\n",
    "          month_count[k][1]=int(x[dates[end_day]+'.4'].values[0])-int(sub_data[sub_data['District_Key']==k][dates[subtract_date]+'.4'].values[0])\n",
    "        else:\n",
    "          month_count[k][0]=int(x[dates[end_day]+'.3'].values[0])\n",
    "          month_count[k][1]=int(x[dates[end_day]+'.4'].values[0])\n",
    "\n",
    "      else:\n",
    "        month_count[k][0]=int(x[dates[end_day]+'.3'].values[0])\n",
    "        month_count[k][1]=int(x[dates[end_day]+'.4'].values[0])\n",
    "      m.append((k,'month'+str(c),month_count[k][0],month_count[k][1]))\n",
    "    \n",
    "  c+=1"
   ]
  },
  {
   "cell_type": "code",
   "execution_count": 12,
   "metadata": {},
   "outputs": [],
   "source": [
    "m=sorted(m, key = lambda x: x[0])"
   ]
  },
  {
   "cell_type": "code",
   "execution_count": 13,
   "metadata": {},
   "outputs": [],
   "source": [
    "m.insert(0,('District Id','Time Id','Dose 1','Dose 2',))"
   ]
  },
  {
   "cell_type": "code",
   "execution_count": 14,
   "metadata": {},
   "outputs": [],
   "source": [
    "file = open('../Generated/5/district-vaccinated-count-month.csv', 'w+', newline ='')\n",
    "  \n",
    "# writing the data into the file\n",
    "with file:    \n",
    "    write = csv.writer(file)\n",
    "    write.writerows(m)"
   ]
  },
  {
   "cell_type": "markdown",
   "metadata": {},
   "source": [
    "**For Overall**"
   ]
  },
  {
   "cell_type": "code",
   "execution_count": 15,
   "metadata": {},
   "outputs": [],
   "source": [
    "dates=[]\n",
    "for i in data.columns[6:]:\n",
    "  dates.append(i.split('.')[0])\n",
    "dates=list(set(dates))\n",
    "dates=sorted(dates, key=lambda x: datetime.datetime.strptime(x, '%d/%m/%Y'))\n",
    "dates=dates[:220]"
   ]
  },
  {
   "cell_type": "code",
   "execution_count": 16,
   "metadata": {},
   "outputs": [],
   "source": [
    "list_column=['S No', 'State_Code', 'State', 'District_Key', 'Cowin Key', 'District',dates[-1]+'.3',dates[-1]+'.4']"
   ]
  },
  {
   "cell_type": "code",
   "execution_count": 17,
   "metadata": {},
   "outputs": [],
   "source": [
    "district_data=data[list_column].iloc[1:,:]\n",
    "overall=[]"
   ]
  },
  {
   "cell_type": "code",
   "execution_count": 18,
   "metadata": {},
   "outputs": [],
   "source": [
    "for i in district_data['District_Key'].values:\n",
    "    x1=district_data[district_data['District_Key']==i][dates[-1]+'.3'].values[0]\n",
    "    x2=district_data[district_data['District_Key']==i][dates[-1]+'.4'].values[0]\n",
    "    overall.append((i,'Overall',x1,x2))"
   ]
  },
  {
   "cell_type": "code",
   "execution_count": 19,
   "metadata": {},
   "outputs": [],
   "source": [
    "overall=sorted(overall, key = lambda x: x[0])"
   ]
  },
  {
   "cell_type": "code",
   "execution_count": 20,
   "metadata": {},
   "outputs": [],
   "source": [
    "overall.insert(0,('District Id','Time Id','Dose 1','Dose 2',))"
   ]
  },
  {
   "cell_type": "code",
   "execution_count": 21,
   "metadata": {},
   "outputs": [],
   "source": [
    "file = open('../Generated/5/district-vaccinated-count-overall.csv', 'w+', newline ='')\n",
    "  \n",
    "# writing the data into the file\n",
    "with file:    \n",
    "    write = csv.writer(file)\n",
    "    write.writerows(overall)"
   ]
  }
 ],
 "metadata": {
  "kernelspec": {
   "display_name": "Python 3",
   "language": "python",
   "name": "python3"
  },
  "language_info": {
   "codemirror_mode": {
    "name": "ipython",
    "version": 3
   },
   "file_extension": ".py",
   "mimetype": "text/x-python",
   "name": "python",
   "nbconvert_exporter": "python",
   "pygments_lexer": "ipython3",
   "version": "3.7.3"
  }
 },
 "nbformat": 4,
 "nbformat_minor": 2
}

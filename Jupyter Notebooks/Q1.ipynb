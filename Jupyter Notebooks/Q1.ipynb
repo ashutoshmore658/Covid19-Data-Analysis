{
 "cells": [
  {
   "cell_type": "markdown",
   "metadata": {},
   "source": [
    "**Importing Necessary Library**"
   ]
  },
  {
   "cell_type": "code",
   "execution_count": 1,
   "metadata": {
    "id": "Rdo3Q0VCyWHi"
   },
   "outputs": [],
   "source": [
    "import numpy as np\n",
    "import pandas as pd"
   ]
  },
  {
   "cell_type": "markdown",
   "metadata": {},
   "source": [
    "***Loading Dataset***"
   ]
  },
  {
   "cell_type": "code",
   "execution_count": 2,
   "metadata": {
    "id": "ctgWRg34yieK"
   },
   "outputs": [],
   "source": [
    "district_vaccine=pd.read_csv('../Data/vaccination_data_district_wise.csv',encoding='utf-8', low_memory=False)"
   ]
  },
  {
   "cell_type": "code",
   "execution_count": 3,
   "metadata": {
    "id": "6khdbxdpYdln"
   },
   "outputs": [],
   "source": [
    "district_covid=pd.read_csv('../Data/district_wise.csv')"
   ]
  },
  {
   "cell_type": "code",
   "execution_count": 4,
   "metadata": {
    "id": "aRqdqIM3ZkOO"
   },
   "outputs": [],
   "source": [
    "import json\n",
    "d=open('../Data/neighbor-districts.json')\n",
    "data=json.load(d)"
   ]
  },
  {
   "cell_type": "markdown",
   "metadata": {},
   "source": [
    "***Finding Common District between Covid Dataset and Vaccine Dataset***"
   ]
  },
  {
   "cell_type": "code",
   "execution_count": 5,
   "metadata": {
    "id": "IIYij7JJ1Wss"
   },
   "outputs": [],
   "source": [
    "a=set(district_vaccine['District_Key'])\n",
    "b=set(district_covid['District_Key'])\n",
    "common_distict=list(a.intersection(b))"
   ]
  },
  {
   "cell_type": "markdown",
   "metadata": {},
   "source": [
    "**Dictionary to store the Distict_id and its corresponding District_Key**"
   ]
  },
  {
   "cell_type": "code",
   "execution_count": 6,
   "metadata": {
    "id": "g24F7hPoJnAo"
   },
   "outputs": [],
   "source": [
    "def preprocessing(s):\n",
    "    s1=s.split(\"/\")[0]\n",
    "    s1=s1.replace('_',\" \").replace('-',\" \")\n",
    "    s1=s1.title()\n",
    "    s1=s1.replace(\"District\",\"\").strip()\n",
    "\n",
    "    return s1"
   ]
  },
  {
   "cell_type": "code",
   "execution_count": 7,
   "metadata": {
    "id": "1z5cS8ypPrYs"
   },
   "outputs": [],
   "source": [
    "dcodemapper={}\n",
    "absent=[]\n",
    "for i in data.keys():\n",
    "    x=preprocessing(i)\n",
    "    if len(district_vaccine[district_vaccine['District']==x])==1:\n",
    "        if district_vaccine[district_vaccine['District']==x]['District_Key'].values[0] in common_distict:\n",
    "            dcodemapper[i]=district_vaccine[district_vaccine['District']==x]['District_Key'].values[0]\n",
    "    else:\n",
    "        absent.append(i)"
   ]
  },
  {
   "cell_type": "markdown",
   "metadata": {},
   "source": [
    "**Handling Same name Districts**"
   ]
  },
  {
   "cell_type": "code",
   "execution_count": 8,
   "metadata": {},
   "outputs": [],
   "source": [
    "same_district=['hamirpur/Q2086180','hamirpur/Q2019757','pratapgarh/Q1585433','pratapgarh/Q1473962','balrampur/Q1948380','balrampur/Q16056268','bilaspur/Q1478939','bilaspur/Q100157','aurangabad/Q43086','aurangabad/Q592942']"
   ]
  },
  {
   "cell_type": "code",
   "execution_count": 9,
   "metadata": {
    "id": "agqUHlfKfZ-W"
   },
   "outputs": [],
   "source": [
    "dcodemapper['hamirpur/Q2086180']='HP_Hamirpur' \n",
    "dcodemapper['hamirpur/Q2019757']='UP_Hamirpur'\n",
    "dcodemapper['pratapgarh/Q1585433']='RJ_Pratapgarh' \n",
    "dcodemapper['pratapgarh/Q1473962']='UP_Pratapgarh' \n",
    "dcodemapper['balrampur/Q1948380']='UP_Balrampur'\n",
    "dcodemapper['balrampur/Q16056268']='CT_Balrampur'\n",
    "dcodemapper['bilaspur/Q1478939']='HP_Bilaspur'\n",
    "dcodemapper['bilaspur/Q100157']='CT_Bilaspur' \n",
    "dcodemapper['aurangabad/Q43086']='BR_Aurangabad'\n",
    "dcodemapper['aurangabad/Q592942']='MH_Aurangabad'"
   ]
  },
  {
   "cell_type": "code",
   "execution_count": 10,
   "metadata": {},
   "outputs": [],
   "source": [
    "for i in same_district:\n",
    "    absent.remove(i)"
   ]
  },
  {
   "cell_type": "markdown",
   "metadata": {},
   "source": [
    "**Handling Multi-entry District**"
   ]
  },
  {
   "cell_type": "code",
   "execution_count": 11,
   "metadata": {},
   "outputs": [],
   "source": [
    "for i in absent:\n",
    "  x=preprocessing(i)\n",
    "  if len(district_vaccine[district_vaccine['District']==x])>1:\n",
    "    if district_vaccine[district_vaccine['District']==x]['District_Key'].values[0] in common_distict:\n",
    "      dcodemapper[i]=district_vaccine[district_vaccine['District']==x]['District_Key'].values[0]"
   ]
  },
  {
   "cell_type": "markdown",
   "metadata": {},
   "source": [
    "**Handling Spelling Error District**"
   ]
  },
  {
   "cell_type": "code",
   "execution_count": 12,
   "metadata": {},
   "outputs": [],
   "source": [
    "dcodemapper['aizwal/Q1947322']='MZ_Aizawl'\n",
    "dcodemapper['anugul/Q1772807']='OR_Angul'\n",
    "dcodemapper['ashok_nagar/Q2246416']='MP_Ashoknagar'\n",
    "dcodemapper['badgam/Q2594218']='JK_Budgam'\n",
    "dcodemapper['baleshwar/Q2022279']='OR_Balasore'\n",
    "dcodemapper['banas_kantha_district/Q806125']='GJ_Banaskantha'\n",
    "dcodemapper['bangalore_rural/Q806464']='KA_Bengaluru Rural'\n",
    "dcodemapper['bangalore_urban/Q806463']='KA_Bengaluru Urban'\n",
    "dcodemapper['baramula/Q1912057']='JK_Baramulla'\n",
    "dcodemapper['baudh/Q2363639']='OR_Boudh'\n",
    "dcodemapper['belgaum_district/Q815464']='KA_Belagavi'\n",
    "dcodemapper['bellary_district/Q1791926']='KA_Ballari'\n",
    "dcodemapper['bemetara/Q16254159']='CT_Bametara'\n",
    "dcodemapper['bid/Q814037']='MH_Beed'\n",
    "dcodemapper['bishwanath/Q28110722']='AS_Biswanath'\n",
    "dcodemapper['chamarajanagar_district/Q862912']='KA_Chamarajanagara'\n",
    "dcodemapper['dantewada/Q100211']='CT_Dakshin Bastar Dantewada'\n",
    "dcodemapper['debagarh/Q2269639']='OR_Deogarh'\n",
    "dcodemapper['devbhumi_dwaraka_district/Q14594717']='GJ_Devbhumi Dwarka'\n",
    "dcodemapper['dhaulpur/Q1207709']='RJ_Dholpur'\n",
    "dcodemapper['east_karbi_anglong/Q42558']='AS_Karbi Anglong'\n",
    "dcodemapper['faizabad/Q1814132']='UP_Ayodhya'\n",
    "dcodemapper['fategarh_sahib/Q172485']='PB_Fatehgarh Sahib'\n",
    "dcodemapper['firozpur/Q172385']='PB_Ferozepur'\n",
    "dcodemapper['gondiya/Q1917227']='MH_Gondia'\n",
    "dcodemapper['hugli/Q548518']='WB_Hooghly'\n",
    "dcodemapper['jagatsinghapur/Q971581']='OR_Jagatsinghpur'\n",
    "dcodemapper['jajapur/Q2087771']='OR_Jajpur'\n",
    "dcodemapper['jalor/Q1460832']='RJ_Jalore'\n",
    "dcodemapper['jhunjhunun/Q1471427']='RJ_Jhunjhunu'\n",
    "dcodemapper['jyotiba_phule_nagar/Q1891677']='UP_Amroha'\n",
    "dcodemapper['kabirdham/Q2450255']='CT_Kabeerdham'\n",
    "dcodemapper['kaimur_(bhabua)/Q77367']='BR_Kaimur'\n",
    "dcodemapper['kanchipuram_district/Q15157']='TN_Kancheepuram'\n",
    "dcodemapper['kheri/Q1755447']='UP_Lakhimpur Kheri'\n",
    "dcodemapper['kochbihar/Q2728658']='WB_Cooch Behar'\n",
    "dcodemapper['kodarma/Q2085480']='JH_Koderma'\n",
    "dcodemapper['komram_bheem/Q28170184']='TG_Komaram Bheem'\n",
    "dcodemapper['lahul_and_spiti/Q837595']='HP_Lahaul and Spiti'\n",
    "dcodemapper['mahesana_district/Q2019694']='GJ_Mehsana'\n",
    "dcodemapper['mahrajganj/Q1356139']='UP_Maharajganj'\n",
    "dcodemapper['maldah/Q2049820']='WB_Malda'\n",
    "dcodemapper['marigaon/Q42737']='AS_Morigaon'\n",
    "dcodemapper['muktsar/Q1947359']='PB_Sri Muktsar Sahib'\n",
    "dcodemapper['mumbai_city/Q2341660']='MH_Mumbai'\n",
    "dcodemapper['nandubar/Q1623525']='MH_Nandurbar'\n",
    "dcodemapper['narsimhapur/Q2341616']='MP_Narsinghpur'\n",
    "dcodemapper['nav_sari_district/Q1797349']='GJ_Navsari'\n",
    "dcodemapper['pakaur/Q2295930']='JH_Pakur'\n",
    "dcodemapper['palghat/Q1535742']='KL_Palakkad'\n",
    "dcodemapper['panch_mahal_district/Q1781463']='GJ_Panchmahal'\n",
    "dcodemapper['pashchim_champaran/Q100124']='BR_West Champaran'\n",
    "dcodemapper['pashchimi_singhbhum/Q1950527']='JH_West Singhbhum'\n",
    "dcodemapper['pattanamtitta/Q634935']='KL_Pathanamthitta'\n",
    "dcodemapper['purba_champaran/Q49159']='BR_East Champaran'\n",
    "dcodemapper['purbi_singhbhum/Q2452921']='JH_East Singhbhum'\n",
    "dcodemapper['puruliya/Q307474']='WB_Purulia'\n",
    "dcodemapper['rae_bareilly/Q1321157']='UP_Rae Bareli'\n",
    "dcodemapper['rajauri/Q544279']='JK_Rajouri'\n",
    "dcodemapper['rangareddy/Q15388']='TG_Ranga Reddy'\n",
    "dcodemapper['ri-bhoi/Q1884672']='ML_Ribhoi'\n",
    "dcodemapper['sabar_kantha_district/Q1772856']='GJ_Sabarkantha'\n",
    "dcodemapper['sahibzada_ajit_singh_nagar/Q2037672']='PB_S.A.S. Nagar'\n",
    "dcodemapper['sait_kibir_nagar/Q1945445']='UP_Sant Kabir Nagar'\n",
    "dcodemapper['sant_ravidas_nagar/Q127533']='UP_Bhadohi'\n",
    "dcodemapper['sepahijala/Q16086076']='TR_Sipahijala'\n",
    "dcodemapper['seraikela_kharsawan/Q2362658']='JH_Saraikela-Kharsawan'\n",
    "dcodemapper['shaheed_bhagat_singh_nagar/Q202710']='PB_Shahid Bhagat Singh Nagar'\n",
    "dcodemapper['sharawasti/Q1945458']='UP_Shrawasti'\n",
    "dcodemapper['shimoga_district/Q2981389']='KA_Shivamogga'\n",
    "dcodemapper['shopian/Q2073646']='JK_Shopiyan'\n",
    "dcodemapper['siddharth_nagar/Q1815339']='UP_Siddharthnagar'\n",
    "dcodemapper['sivagangai_district/Q15195']='TN_Sivaganga'\n",
    "dcodemapper['sonapur/Q1473957']='OR_Subarnapur'\n",
    "dcodemapper['sri_ganganagar/Q1419696']='RJ_Ganganagar'\n",
    "dcodemapper['sri_potti_sriramulu_nellore/Q15383']='AP_S.P.S. Nellore'\n",
    "dcodemapper['the_dangs/Q1135616']='GJ_Dang'\n",
    "dcodemapper['the_nilgiris_district/Q15188']='TN_Nilgiris'\n",
    "dcodemapper['thoothukudi_district/Q15198']='TN_Thoothukkudi'\n",
    "dcodemapper['tiruchchirappalli_district/Q15201']='TN_Tiruchirappalli'\n",
    "dcodemapper['tirunelveli_kattabo/Q15200']='TN_Tirunelveli'\n",
    "dcodemapper['tiruvanamalai_district/Q15207']='TN_Tiruvannamalai'\n",
    "dcodemapper['tumkur_district/Q1301635']='KA_Tumakuru'\n",
    "dcodemapper['yadagiri_district/Q1786949']='KA_Yadgir'\n",
    "dcodemapper['bijapur_district/Q1727570']='KA_Vijayapura'\n",
    "dcodemapper['ysr/Q15342']='AP_Y.S.R. Kadapa'"
   ]
  },
  {
   "cell_type": "markdown",
   "metadata": {},
   "source": [
    "**Converting To Json**"
   ]
  },
  {
   "cell_type": "code",
   "execution_count": 13,
   "metadata": {},
   "outputs": [],
   "source": [
    "d_json={}\n",
    "c=0\n",
    "for i in data.keys():\n",
    "    if i in dcodemapper.keys():\n",
    "        d_json[dcodemapper[i]]=[dcodemapper[j] for j in data[i] if j in dcodemapper.keys()]\n",
    "        "
   ]
  },
  {
   "cell_type": "code",
   "execution_count": 14,
   "metadata": {},
   "outputs": [],
   "source": [
    "for i in d_json:\n",
    "    d_json[i].sort()"
   ]
  },
  {
   "cell_type": "code",
   "execution_count": 15,
   "metadata": {},
   "outputs": [],
   "source": [
    "with open(\"../Generated/1/neighbor-districts-modified.json\", \"w\") as outfile:\n",
    "    json.dump(d_json, outfile,sort_keys=True)"
   ]
  }
 ],
 "metadata": {
  "colab": {
   "collapsed_sections": [],
   "name": "DM 1.ipynb",
   "provenance": []
  },
  "kernelspec": {
   "display_name": "Python 3",
   "language": "python",
   "name": "python3"
  },
  "language_info": {
   "codemirror_mode": {
    "name": "ipython",
    "version": 3
   },
   "file_extension": ".py",
   "mimetype": "text/x-python",
   "name": "python",
   "nbconvert_exporter": "python",
   "pygments_lexer": "ipython3",
   "version": "3.7.3"
  }
 },
 "nbformat": 4,
 "nbformat_minor": 1
}

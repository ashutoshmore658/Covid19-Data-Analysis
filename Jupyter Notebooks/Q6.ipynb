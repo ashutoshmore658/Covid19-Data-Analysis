{
 "cells": [
  {
   "cell_type": "code",
   "execution_count": 1,
   "metadata": {},
   "outputs": [],
   "source": [
    "import numpy as np\n",
    "import pandas as pd"
   ]
  },
  {
   "cell_type": "markdown",
   "metadata": {},
   "source": [
    "**For District**"
   ]
  },
  {
   "cell_type": "code",
   "execution_count": 2,
   "metadata": {},
   "outputs": [],
   "source": [
    "data=pd.read_csv('../Data/vaccination_data_district_wise.csv',low_memory=False)"
   ]
  },
  {
   "cell_type": "code",
   "execution_count": 3,
   "metadata": {},
   "outputs": [],
   "source": [
    "data=data[['District_Key','District','14/08/2021.5','14/08/2021.6']]"
   ]
  },
  {
   "cell_type": "code",
   "execution_count": 4,
   "metadata": {},
   "outputs": [],
   "source": [
    "census=pd.read_excel('../Data/census.xlsx')"
   ]
  },
  {
   "cell_type": "code",
   "execution_count": 5,
   "metadata": {},
   "outputs": [],
   "source": [
    "census=census[(census['Level']=='DISTRICT')&(census['TRU']=='Total')][['Name','TOT_P','TOT_M','TOT_F']]"
   ]
  },
  {
   "cell_type": "code",
   "execution_count": 6,
   "metadata": {},
   "outputs": [],
   "source": [
    "census.columns=['District','Population','Male Population','Female Population']"
   ]
  },
  {
   "cell_type": "code",
   "execution_count": 7,
   "metadata": {},
   "outputs": [],
   "source": [
    "district_data=pd.merge(data,census,on=['District'])"
   ]
  },
  {
   "cell_type": "code",
   "execution_count": 8,
   "metadata": {},
   "outputs": [],
   "source": [
    "district_data['14/08/2021.5']=pd.to_numeric(district_data['14/08/2021.5'])"
   ]
  },
  {
   "cell_type": "code",
   "execution_count": 9,
   "metadata": {},
   "outputs": [],
   "source": [
    "district_data['14/08/2021.6']=pd.to_numeric(district_data['14/08/2021.6'])"
   ]
  },
  {
   "cell_type": "code",
   "execution_count": 10,
   "metadata": {},
   "outputs": [],
   "source": [
    "district_data['Vaccination Ratio (F/M)']=district_data['14/08/2021.6']/district_data['14/08/2021.5']"
   ]
  },
  {
   "cell_type": "code",
   "execution_count": 11,
   "metadata": {},
   "outputs": [],
   "source": [
    "district_data['Population Ratio (F/M)']=district_data['Female Population']/district_data['Male Population']"
   ]
  },
  {
   "cell_type": "code",
   "execution_count": 12,
   "metadata": {},
   "outputs": [],
   "source": [
    "district_data['Ratio Of Ratio']=district_data['Vaccination Ratio (F/M)']/district_data['Population Ratio (F/M)']"
   ]
  },
  {
   "cell_type": "code",
   "execution_count": 13,
   "metadata": {},
   "outputs": [],
   "source": [
    "district_data=district_data[['District_Key','Vaccination Ratio (F/M)','Population Ratio (F/M)','Ratio Of Ratio']]"
   ]
  },
  {
   "cell_type": "code",
   "execution_count": 14,
   "metadata": {},
   "outputs": [],
   "source": [
    "district_data.sort_values(['Ratio Of Ratio']).to_csv('../Generated/6/district-vaccination-population-ratio.csv',index=False)"
   ]
  },
  {
   "cell_type": "markdown",
   "metadata": {},
   "source": [
    "**State**"
   ]
  },
  {
   "cell_type": "code",
   "execution_count": 15,
   "metadata": {},
   "outputs": [],
   "source": [
    "data=pd.read_csv('../Data/vaccination_data_state_wise.csv',low_memory=False)"
   ]
  },
  {
   "cell_type": "code",
   "execution_count": 16,
   "metadata": {},
   "outputs": [],
   "source": [
    "data=data[data['Updated On']=='14/08/2021']"
   ]
  },
  {
   "cell_type": "code",
   "execution_count": 17,
   "metadata": {},
   "outputs": [],
   "source": [
    "data=data[['State','Male (Doses Administered)','Female (Doses Administered)']]"
   ]
  },
  {
   "cell_type": "code",
   "execution_count": 18,
   "metadata": {},
   "outputs": [],
   "source": [
    "state_vaccination=data[data['State']!='India']"
   ]
  },
  {
   "cell_type": "code",
   "execution_count": 19,
   "metadata": {},
   "outputs": [],
   "source": [
    "census=pd.read_excel('../Data/census.xlsx')"
   ]
  },
  {
   "cell_type": "code",
   "execution_count": 20,
   "metadata": {},
   "outputs": [],
   "source": [
    "census=census[(census['Level']=='STATE')&(census['TRU']=='Total')][['Name','TOT_M','TOT_F']]"
   ]
  },
  {
   "cell_type": "code",
   "execution_count": 21,
   "metadata": {},
   "outputs": [],
   "source": [
    "state_vaccination=state_vaccination[state_vaccination['State'].str.upper().isin(census['Name'].values)]\n",
    "state_vaccination=state_vaccination[['State','Male (Doses Administered)','Female (Doses Administered)']].reset_index().drop('index',axis=1)"
   ]
  },
  {
   "cell_type": "code",
   "execution_count": 22,
   "metadata": {},
   "outputs": [],
   "source": [
    "census=census[census['Name'].isin(state_vaccination['State'].str.upper())]"
   ]
  },
  {
   "cell_type": "code",
   "execution_count": 23,
   "metadata": {},
   "outputs": [],
   "source": [
    "census=census.sort_values('Name').reset_index().drop('index',axis=1)"
   ]
  },
  {
   "cell_type": "code",
   "execution_count": 24,
   "metadata": {},
   "outputs": [],
   "source": [
    "state_vaccination['Vaccination Ratio (F/M)']=state_vaccination['Male (Doses Administered)']/state_vaccination['Female (Doses Administered)']"
   ]
  },
  {
   "cell_type": "code",
   "execution_count": 25,
   "metadata": {},
   "outputs": [],
   "source": [
    "state_vaccination['Population Ratio (F/M)']=census['TOT_F']/census['TOT_M']"
   ]
  },
  {
   "cell_type": "code",
   "execution_count": 26,
   "metadata": {},
   "outputs": [],
   "source": [
    "state_vaccination['Ratio Of Ratio']=state_vaccination['Vaccination Ratio (F/M)']/state_vaccination['Population Ratio (F/M)']"
   ]
  },
  {
   "cell_type": "code",
   "execution_count": 27,
   "metadata": {},
   "outputs": [],
   "source": [
    "state_vaccination=state_vaccination.sort_values(['Ratio Of Ratio'])"
   ]
  },
  {
   "cell_type": "code",
   "execution_count": 28,
   "metadata": {},
   "outputs": [],
   "source": [
    "state_vaccination[['State','Vaccination Ratio (F/M)','Population Ratio (F/M)','Ratio Of Ratio']].to_csv('../Generated/6/state-vaccination-population-ratio.csv',index=False)"
   ]
  },
  {
   "cell_type": "markdown",
   "metadata": {},
   "source": [
    "**Overall**"
   ]
  },
  {
   "cell_type": "code",
   "execution_count": 29,
   "metadata": {},
   "outputs": [],
   "source": [
    "overall_data=data[data['State']=='India'].reset_index().drop('index',axis=1)"
   ]
  },
  {
   "cell_type": "code",
   "execution_count": 30,
   "metadata": {},
   "outputs": [],
   "source": [
    "census=pd.read_excel('../Data/census.xlsx')\n",
    "census=census[(census['Level']=='India')&(census['TRU']=='Total')][['Name','TOT_M','TOT_F']]"
   ]
  },
  {
   "cell_type": "code",
   "execution_count": 31,
   "metadata": {},
   "outputs": [],
   "source": [
    "overall_data['Vaccination Ratio (F/M)']=overall_data['Female (Doses Administered)']/overall_data['Male (Doses Administered)']"
   ]
  },
  {
   "cell_type": "code",
   "execution_count": 32,
   "metadata": {},
   "outputs": [],
   "source": [
    "overall_data['Population Ratio (F/M)']=census['TOT_F']/census['TOT_M']"
   ]
  },
  {
   "cell_type": "code",
   "execution_count": 33,
   "metadata": {},
   "outputs": [],
   "source": [
    "overall_data['Ratio Of Ratio']=overall_data['Vaccination Ratio (F/M)']/overall_data['Population Ratio (F/M)']"
   ]
  },
  {
   "cell_type": "code",
   "execution_count": 34,
   "metadata": {},
   "outputs": [],
   "source": [
    "overall_data[['State','Vaccination Ratio (F/M)','Population Ratio (F/M)','Ratio Of Ratio']].to_csv('../Generated/6/overall-vaccination-population-ratio.csv',index=False)"
   ]
  }
 ],
 "metadata": {
  "kernelspec": {
   "display_name": "Python 3",
   "language": "python",
   "name": "python3"
  },
  "language_info": {
   "codemirror_mode": {
    "name": "ipython",
    "version": 3
   },
   "file_extension": ".py",
   "mimetype": "text/x-python",
   "name": "python",
   "nbconvert_exporter": "python",
   "pygments_lexer": "ipython3",
   "version": "3.7.3"
  }
 },
 "nbformat": 4,
 "nbformat_minor": 2
}

{
 "cells": [
  {
   "cell_type": "markdown",
   "metadata": {},
   "source": [
    "**Loading Libraries, Dataset and Preprocessing**"
   ]
  },
  {
   "cell_type": "code",
   "execution_count": 1,
   "metadata": {},
   "outputs": [],
   "source": [
    "import numpy as np\n",
    "import pandas as pd\n",
    "import datetime\n",
    "import json\n",
    "import csv"
   ]
  },
  {
   "cell_type": "code",
   "execution_count": 2,
   "metadata": {},
   "outputs": [],
   "source": [
    "data=pd.read_csv('../Data/districts-modified.csv')"
   ]
  },
  {
   "cell_type": "code",
   "execution_count": 3,
   "metadata": {},
   "outputs": [],
   "source": [
    "data=data[data['District_Id']!='Unknown']"
   ]
  },
  {
   "cell_type": "markdown",
   "metadata": {},
   "source": [
    "**For Weekly Data**"
   ]
  },
  {
   "cell_type": "markdown",
   "metadata": {},
   "source": [
    "Making Dates Range"
   ]
  },
  {
   "cell_type": "code",
   "execution_count": 4,
   "metadata": {},
   "outputs": [],
   "source": [
    "dates=list(set(data['Date'].values))\n",
    "dates=sorted(dates, key=lambda x: datetime.datetime.strptime(x, '%Y-%m-%d'))\n",
    "dates=dates[:476]"
   ]
  },
  {
   "cell_type": "markdown",
   "metadata": {},
   "source": [
    "Data in Vaccination dataset is cumulative. We need to find the absolute data per week. So we have taken two index per week denoting start and end date of week and we subtract data[endweek] with data[start-1] (Which is data of previous week to get absolute value)\n",
    "\n",
    "Similar Approach for\n",
    "\n",
    "1) Week\n",
    "\n",
    "2) Month\n",
    "\n",
    "3) Overall"
   ]
  },
  {
   "cell_type": "code",
   "execution_count": 5,
   "metadata": {},
   "outputs": [],
   "source": [
    "w1=[]\n",
    "c=1"
   ]
  },
  {
   "cell_type": "code",
   "execution_count": 6,
   "metadata": {},
   "outputs": [],
   "source": [
    "for i in range(0,68):\n",
    "    start_day=7*i\n",
    "    subtract_date=start_day-1 \n",
    "    end_day=start_day+6\n",
    "    week_count={}\n",
    "    district_data=data[data['Date']==dates[end_day]]\n",
    "    if subtract_date>=0:\n",
    "      sub_data=data[data['Date']==dates[subtract_date]] \n",
    "      old_district_ids=sub_data['District_Id'].values\n",
    "    district_ids=district_data['District_Id'].values\n",
    "    \n",
    "    for k in district_ids:\n",
    "      if k not in week_count.keys():\n",
    "        week_count[k]=0\n",
    "      x=district_data[district_data['District_Id']==k]['Confirmed']\n",
    "      if subtract_date>=0:\n",
    "        if k in old_district_ids: \n",
    "          week_count[k]=x.values[0]-sub_data[sub_data['District_Id']==k]['Confirmed'].values[0]\n",
    "        else:\n",
    "          week_count[k]=x.values[0]\n",
    "\n",
    "      else:\n",
    "        week_count[k]=x.values[0]\n",
    "      w1.append((k,'week'+str(c),week_count[k]))\n",
    "    \n",
    "    c+=1"
   ]
  },
  {
   "cell_type": "code",
   "execution_count": 7,
   "metadata": {},
   "outputs": [],
   "source": [
    "w1.insert(0,('District Id','Week Id','Cases Per Week'))"
   ]
  },
  {
   "cell_type": "code",
   "execution_count": 8,
   "metadata": {},
   "outputs": [],
   "source": [
    "file = open('../Generated/3/cases-week.csv', 'w+', newline ='')\n",
    "  \n",
    "# writing the data into the file\n",
    "with file:    \n",
    "    write = csv.writer(file)\n",
    "    write.writerows(w1)"
   ]
  },
  {
   "cell_type": "markdown",
   "metadata": {},
   "source": [
    "**For Month Wise**"
   ]
  },
  {
   "cell_type": "code",
   "execution_count": 9,
   "metadata": {},
   "outputs": [],
   "source": [
    "dates=list(set(data['Date'].values))\n",
    "dates=sorted(dates, key=lambda x: datetime.datetime.strptime(x, '%Y-%m-%d'))\n",
    "dates=dates[:480]\n"
   ]
  },
  {
   "cell_type": "code",
   "execution_count": 10,
   "metadata": {},
   "outputs": [],
   "source": [
    "m=[]\n",
    "c=1"
   ]
  },
  {
   "cell_type": "code",
   "execution_count": 11,
   "metadata": {},
   "outputs": [],
   "source": [
    "for i in range(0,16):\n",
    "    start_day=30*i\n",
    "    subtract_date=start_day-1\n",
    "    end_day=start_day+29\n",
    "    month_count={}\n",
    "    district_data=data[data['Date']==dates[end_day]]\n",
    "    if subtract_date>=0:\n",
    "      sub_data=data[data['Date']==dates[subtract_date]]\n",
    "      old_district_ids=sub_data['District_Id'].values\n",
    "    district_ids=district_data['District_Id'].values\n",
    "    \n",
    "    for k in district_ids:\n",
    "      if k not in month_count.keys():\n",
    "        month_count[k]=0\n",
    "      x=district_data[district_data['District_Id']==k]['Confirmed']\n",
    "      if subtract_date>=0:\n",
    "        if k in old_district_ids: \n",
    "          month_count[k]=x.values[0]-sub_data[sub_data['District_Id']==k]['Confirmed'].values[0]\n",
    "        else:\n",
    "          month_count[k]=x.values[0]\n",
    "\n",
    "      else:\n",
    "        month_count[k]=x.values[0]\n",
    "      m.append((k,'month'+str(c),month_count[k]))\n",
    "    \n",
    "    c+=1"
   ]
  },
  {
   "cell_type": "code",
   "execution_count": 12,
   "metadata": {},
   "outputs": [],
   "source": [
    "m.insert(0,('District Id','Month Id','Cases Per Month'))"
   ]
  },
  {
   "cell_type": "code",
   "execution_count": 13,
   "metadata": {},
   "outputs": [],
   "source": [
    "file = open('../Generated/3/cases-month.csv', 'w+', newline ='')\n",
    "  \n",
    "# writing the data into the file\n",
    "with file:    \n",
    "    write = csv.writer(file)\n",
    "    write.writerows(m)"
   ]
  },
  {
   "cell_type": "markdown",
   "metadata": {},
   "source": [
    "**For Overall**"
   ]
  },
  {
   "cell_type": "code",
   "execution_count": 14,
   "metadata": {},
   "outputs": [],
   "source": [
    "district_data=data[data['Date']=='2021-08-14']"
   ]
  },
  {
   "cell_type": "code",
   "execution_count": 15,
   "metadata": {},
   "outputs": [],
   "source": [
    "overall_count=[]\n",
    "\n",
    "for i in district_data['District_Id']:\n",
    "  overall_count.append((i,'Overall',district_data[district_data['District_Id']==i]['Confirmed'].values[0]))"
   ]
  },
  {
   "cell_type": "code",
   "execution_count": 16,
   "metadata": {},
   "outputs": [],
   "source": [
    "overall_count.insert(0,('District Id','Overall','Cases'))"
   ]
  },
  {
   "cell_type": "code",
   "execution_count": 17,
   "metadata": {},
   "outputs": [],
   "source": [
    "file = open('../Generated/3/cases-overall.csv', 'w+', newline ='')\n",
    "  \n",
    "# writing the data into the file\n",
    "with file:    \n",
    "    write = csv.writer(file)\n",
    "    write.writerows(overall_count)"
   ]
  }
 ],
 "metadata": {
  "kernelspec": {
   "display_name": "Python 3",
   "language": "python",
   "name": "python3"
  },
  "language_info": {
   "codemirror_mode": {
    "name": "ipython",
    "version": 3
   },
   "file_extension": ".py",
   "mimetype": "text/x-python",
   "name": "python",
   "nbconvert_exporter": "python",
   "pygments_lexer": "ipython3",
   "version": "3.7.3"
  }
 },
 "nbformat": 4,
 "nbformat_minor": 2
}

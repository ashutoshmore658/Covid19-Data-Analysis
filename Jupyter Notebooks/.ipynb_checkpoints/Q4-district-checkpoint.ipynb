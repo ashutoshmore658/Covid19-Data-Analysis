{
 "cells": [
  {
   "cell_type": "code",
   "execution_count": 1,
   "metadata": {},
   "outputs": [],
   "source": [
    "import numpy as np\n",
    "import pandas as pd\n",
    "import csv\n",
    "import matplotlib.pyplot as plt\n",
    "import seaborn as sns\n",
    "from scipy.signal import find_peaks\n",
    "import datetime"
   ]
  },
  {
   "cell_type": "code",
   "execution_count": 2,
   "metadata": {},
   "outputs": [],
   "source": [
    "data=pd.read_csv('../Data/districts-modified.csv')"
   ]
  },
  {
   "cell_type": "code",
   "execution_count": 3,
   "metadata": {},
   "outputs": [],
   "source": [
    "data=data[data['District_Id']!='Unknown']"
   ]
  },
  {
   "cell_type": "markdown",
   "metadata": {},
   "source": [
    "# District"
   ]
  },
  {
   "cell_type": "markdown",
   "metadata": {},
   "source": [
    "**Weekly Data**"
   ]
  },
  {
   "cell_type": "code",
   "execution_count": null,
   "metadata": {},
   "outputs": [],
   "source": [
    "dates=list(set(data['Date'].values))\n",
    "dates=sorted(dates, key=lambda x: datetime.datetime.strptime(x, '%Y-%m-%d'))\n",
    "dates=dates[:476]\n"
   ]
  },
  {
   "cell_type": "code",
   "execution_count": null,
   "metadata": {},
   "outputs": [],
   "source": [
    "w1=[]\n",
    "c=1"
   ]
  },
  {
   "cell_type": "code",
   "execution_count": null,
   "metadata": {},
   "outputs": [],
   "source": [
    "for i in range(0,68):\n",
    "    start_day=7*i\n",
    "    subtract_date=start_day-1\n",
    "    end_day=start_day+6\n",
    "    week_count={}\n",
    "    district_data=data[data['Date']==dates[end_day]] #Current Week Data\n",
    "    if subtract_date>=0:\n",
    "      sub_data=data[data['Date']==dates[subtract_date]] #Prev Week Data\n",
    "      old_district_ids=sub_data['District_Id'].values \n",
    "    district_ids=district_data['District_Id'].values\n",
    "    \n",
    "    for k in district_ids:\n",
    "      if k not in week_count.keys():\n",
    "        week_count[k]=0\n",
    "      x=district_data[district_data['District_Id']==k]['Confirmed']\n",
    "      if len(x)>1:\n",
    "            print(k)\n",
    "      if subtract_date>=0:\n",
    "        if k in old_district_ids: \n",
    "          week_count[k]=x.values[0]-sub_data[sub_data['District_Id']==k]['Confirmed'].values[0]\n",
    "        else:\n",
    "          week_count[k]=x.values[0]\n",
    "\n",
    "      else:\n",
    "        week_count[k]=x.values[0]\n",
    "      w1.append((k,'week'+str(c),week_count[k]))\n",
    "    \n",
    "    c+=2"
   ]
  },
  {
   "cell_type": "code",
   "execution_count": null,
   "metadata": {},
   "outputs": [],
   "source": [
    "c=2"
   ]
  },
  {
   "cell_type": "code",
   "execution_count": null,
   "metadata": {},
   "outputs": [],
   "source": [
    "dates=list(set(data['Date'].values))\n",
    "dates.sort()\n",
    "dates=dates[4:][:476]\n"
   ]
  },
  {
   "cell_type": "code",
   "execution_count": null,
   "metadata": {},
   "outputs": [],
   "source": [
    "for i in range(0,68):\n",
    "    start_day=7*i\n",
    "    subtract_date=start_day-1\n",
    "    end_day=start_day+6\n",
    "    week_count={}\n",
    "    district_data=data[data['Date']==dates[end_day]]\n",
    "    if subtract_date>=0:\n",
    "      sub_data=data[data['Date']==dates[subtract_date]]\n",
    "      old_district_ids=sub_data['District_Id'].values\n",
    "    district_ids=district_data['District_Id'].values\n",
    "    \n",
    "    for k in district_ids:\n",
    "      if k not in week_count.keys():\n",
    "        week_count[k]=0\n",
    "      x=district_data[district_data['District_Id']==k]['Confirmed']\n",
    "      if subtract_date>=0:\n",
    "        if k in old_district_ids: \n",
    "          week_count[k]=x.values[0]-sub_data[sub_data['District_Id']==k]['Confirmed'].values[0]\n",
    "        else:\n",
    "          week_count[k]=x.values[0]\n",
    "\n",
    "      else:\n",
    "        week_count[k]=x.values[0]\n",
    "      w1.append((k,'week'+str(c),week_count[k]))\n",
    "    district_data=data[data['Date']==dates[end_day]]\n",
    "    c+=2"
   ]
  },
  {
   "cell_type": "code",
   "execution_count": null,
   "metadata": {},
   "outputs": [],
   "source": [
    "def Sort_Tuple(tup): \n",
    "    return(sorted(tup, key = lambda x: int(x[1].replace('week',''))))"
   ]
  },
  {
   "cell_type": "code",
   "execution_count": null,
   "metadata": {},
   "outputs": [],
   "source": [
    "w1=Sort_Tuple(w1)"
   ]
  },
  {
   "cell_type": "markdown",
   "metadata": {},
   "source": [
    "**For Month**"
   ]
  },
  {
   "cell_type": "code",
   "execution_count": null,
   "metadata": {},
   "outputs": [],
   "source": [
    "dates=list(set(data['Date'].values))\n",
    "dates=sorted(dates, key=lambda x: datetime.datetime.strptime(x, '%Y-%m-%d'))\n",
    "dates=dates[:480]\n"
   ]
  },
  {
   "cell_type": "code",
   "execution_count": null,
   "metadata": {},
   "outputs": [],
   "source": [
    "m=[]\n",
    "c=1"
   ]
  },
  {
   "cell_type": "code",
   "execution_count": null,
   "metadata": {},
   "outputs": [],
   "source": [
    "for i in range(0,16):\n",
    "    start_day=30*i\n",
    "    subtract_date=start_day-1\n",
    "    end_day=start_day+29\n",
    "    month_count={}\n",
    "    district_data=data[data['Date']==dates[end_day]]\n",
    "    if subtract_date>=0:\n",
    "      sub_data=data[data['Date']==dates[subtract_date]]\n",
    "      old_district_ids=sub_data['District_Id'].values\n",
    "    district_ids=district_data['District_Id'].values\n",
    "    \n",
    "    for k in district_ids:\n",
    "      if k not in month_count.keys():\n",
    "        month_count[k]=0\n",
    "      x=district_data[district_data['District_Id']==k]['Confirmed']\n",
    "      if subtract_date>=0:\n",
    "        if k in old_district_ids: \n",
    "          month_count[k]=x.values[0]-sub_data[sub_data['District_Id']==k]['Confirmed'].values[0]\n",
    "        else:\n",
    "          month_count[k]=x.values[0]\n",
    "\n",
    "      else:\n",
    "        month_count[k]=x.values[0]\n",
    "      m.append((k,'month'+str(c),month_count[k]))\n",
    "    \n",
    "    c+=1"
   ]
  },
  {
   "cell_type": "code",
   "execution_count": null,
   "metadata": {},
   "outputs": [],
   "source": [
    "k=list(set(data['District_Id'].values))\n",
    "k.sort()"
   ]
  },
  {
   "cell_type": "code",
   "execution_count": null,
   "metadata": {},
   "outputs": [],
   "source": [
    "district_dict=[]\n",
    "for d_id in k:\n",
    "    cases_week=[(h[1],h[2]) for h in w1 if h[0]==d_id]\n",
    "    cases_month=[(h[1],h[2]) for h in m if h[0]==d_id]\n",
    "    #Week\n",
    "    x1=[int(i[0].replace('week',\"\")) for i in cases_week]\n",
    "    y1=[i[1] for i in cases_week]\n",
    "    z1=find_peaks(y1)\n",
    "    wave1=[i for i in z1[0] if i<80]\n",
    "    wave2=[i for i in z1[0] if i>80]\n",
    "    i_w1=0\n",
    "    for i in wave1:\n",
    "        if y1[i_w1]<y1[i]:\n",
    "            i_w1=i\n",
    "    #print(d_id,\" week \",x1[i_w1],' value ',y1[i_w1])\n",
    "    i_w2=80\n",
    "    for i in wave2:\n",
    "        if y1[i_w2]<y1[i]:\n",
    "            i_w2=i\n",
    "    #print(d_id,\" week \",x1[i_w2],' value ',y1[i_w2])\n",
    "    #Month\n",
    "    \n",
    "    x2=[int(i[0].replace('month',\"\")) for i in cases_month]\n",
    "    y2=[i[1] for i in cases_month]\n",
    "    z2=find_peaks(y2)\n",
    "    wave1=[i for i in z2[0] if i<10]\n",
    "    wave2=[i for i in z2[0] if i>10]\n",
    "    i_m1=0\n",
    "    for i in wave1:\n",
    "        if y2[i_m1]<y2[i]:\n",
    "            i_m1=i\n",
    "    #print(d_id,\" month \",x2[i_m1],' value ',y2[i_m1])\n",
    "    i_m2=10\n",
    "    for i in wave2:\n",
    "        if y2[i_m2]<y2[i]:\n",
    "            i_m2=i\n",
    "    #print(d_id,\" month \",x2[i_m2],' value ',y2[i_m2])\n",
    "    district_dict.append((d_id,'week'+str(x1[i_w1]),'week'+str(x1[i_w2]),'month'+str(x2[i_m1]),'month'+str(x2[i_m2])))\n",
    "    "
   ]
  },
  {
   "cell_type": "code",
   "execution_count": null,
   "metadata": {},
   "outputs": [],
   "source": [
    "district_dict.insert(0,('District_Id','Wave 1 Week Id','Wave 2 Week Id','Wave 1 Month Id','Wave 2 Month Id'))"
   ]
  },
  {
   "cell_type": "code",
   "execution_count": null,
   "metadata": {},
   "outputs": [],
   "source": [
    "file = open('../Generated/4/district-peak.csv', 'w+', newline ='')\n",
    "  \n",
    "# writing the data into the file\n",
    "with file:    \n",
    "    write = csv.writer(file)\n",
    "    write.writerows(district_dict)"
   ]
  }
 ],
 "metadata": {
  "kernelspec": {
   "display_name": "Python 3",
   "language": "python",
   "name": "python3"
  },
  "language_info": {
   "codemirror_mode": {
    "name": "ipython",
    "version": 3
   },
   "file_extension": ".py",
   "mimetype": "text/x-python",
   "name": "python",
   "nbconvert_exporter": "python",
   "pygments_lexer": "ipython3",
   "version": "3.7.3"
  }
 },
 "nbformat": 4,
 "nbformat_minor": 2
}

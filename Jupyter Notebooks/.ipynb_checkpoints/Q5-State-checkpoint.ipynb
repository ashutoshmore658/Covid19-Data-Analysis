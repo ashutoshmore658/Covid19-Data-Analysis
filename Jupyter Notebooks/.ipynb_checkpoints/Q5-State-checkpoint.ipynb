{
 "cells": [
  {
   "cell_type": "markdown",
   "metadata": {},
   "source": [
    "**Loading Libraries**"
   ]
  },
  {
   "cell_type": "code",
   "execution_count": 1,
   "metadata": {},
   "outputs": [],
   "source": [
    "import numpy as np\n",
    "import pandas as pd\n",
    "import csv\n",
    "import datetime"
   ]
  },
  {
   "cell_type": "markdown",
   "metadata": {},
   "source": [
    "**Loading Data and Preprocessing**"
   ]
  },
  {
   "cell_type": "code",
   "execution_count": 2,
   "metadata": {},
   "outputs": [],
   "source": [
    "data=pd.read_csv('../Data/vaccination_data_state_wise.csv',low_memory=False).fillna(0)"
   ]
  },
  {
   "cell_type": "code",
   "execution_count": 3,
   "metadata": {},
   "outputs": [],
   "source": [
    "data=data[data['State']!='India']"
   ]
  },
  {
   "cell_type": "markdown",
   "metadata": {},
   "source": [
    "**Weekly**"
   ]
  },
  {
   "cell_type": "markdown",
   "metadata": {},
   "source": [
    "Making Dates Range "
   ]
  },
  {
   "cell_type": "code",
   "execution_count": 4,
   "metadata": {},
   "outputs": [],
   "source": [
    "dates=list(set(data['Updated On'].values))\n",
    "dates=sorted(dates, key=lambda x: datetime.datetime.strptime(x, '%d/%m/%Y'))\n",
    "dates=dates[1:][:217]"
   ]
  },
  {
   "cell_type": "markdown",
   "metadata": {},
   "source": [
    "Data in Vaccination dataset is cumulative. We need to find the absolute data per week. So we have taken two index per week denoting start and end date of week and we subtract data[endweek] with data[start-1] (Which is data of previous week to get absolute value)\n",
    "\n",
    "Similar Approach for\n",
    "\n",
    "1) Week\n",
    "\n",
    "2) Month\n",
    "\n",
    "3) Overall"
   ]
  },
  {
   "cell_type": "code",
   "execution_count": 5,
   "metadata": {},
   "outputs": [],
   "source": [
    "w1=[]\n",
    "c=1"
   ]
  },
  {
   "cell_type": "code",
   "execution_count": 6,
   "metadata": {},
   "outputs": [],
   "source": [
    "for i in range(31):\n",
    "  start_day=7*i\n",
    "  subtract_date=start_day-1 \n",
    "  end_day=start_day+6\n",
    "  week_count={}\n",
    "  state_data=data[data['Updated On']==dates[end_day]]\n",
    "  if subtract_date>=0:\n",
    "      \n",
    "      sub_data=data[data['Updated On']==dates[subtract_date]]\n",
    "      old_state_ids=sub_data['State'].values\n",
    "  state_ids=state_data['State'].values\n",
    "  for k in state_ids:\n",
    "      if k not in week_count.keys():\n",
    "        week_count[k]=[0,0]\n",
    "      x=state_data[state_data['State']==k]\n",
    "      if subtract_date>=0:\n",
    "        if k in old_state_ids: \n",
    "          week_count[k][0]=int(x['First Dose Administered'].values[0])-int(sub_data[sub_data['State']==k]['First Dose Administered'].values[0])\n",
    "          week_count[k][1]=int(x['Second Dose Administered'].values[0])-int(sub_data[sub_data['State']==k]['Second Dose Administered'].values[0])\n",
    "        else:\n",
    "          week_count[k][0]=int(x['First Dose Administered'].values[0])\n",
    "          week_count[k][1]=int(x['Second Dose Administered'].values[0])\n",
    "\n",
    "      else:\n",
    "        week_count[k][0]=int(x['First Dose Administered'].values[0])\n",
    "        week_count[k][1]=int(x['Second Dose Administered'].values[0])\n",
    "      w1.append((k,'week'+str(c),week_count[k][0],week_count[k][1]))\n",
    "    \n",
    "  c+=1"
   ]
  },
  {
   "cell_type": "code",
   "execution_count": 7,
   "metadata": {},
   "outputs": [],
   "source": [
    "w1=sorted(w1, key = lambda x: x[0])"
   ]
  },
  {
   "cell_type": "code",
   "execution_count": 8,
   "metadata": {},
   "outputs": [],
   "source": [
    "w1.insert(0,('State','Time Id','Dose 1','Dose 2',))"
   ]
  },
  {
   "cell_type": "code",
   "execution_count": 9,
   "metadata": {},
   "outputs": [],
   "source": [
    "file = open('../Generated/5/state-vaccinated-count-week.csv', 'w+', newline ='')\n",
    "  \n",
    "# writing the data into the file\n",
    "with file:    \n",
    "    write = csv.writer(file)\n",
    "    write.writerows(w1)"
   ]
  },
  {
   "cell_type": "markdown",
   "metadata": {},
   "source": [
    "**For Monthly Data**"
   ]
  },
  {
   "cell_type": "code",
   "execution_count": 10,
   "metadata": {},
   "outputs": [],
   "source": [
    "dates=list(set(data['Updated On'].values))\n",
    "dates=sorted(dates, key=lambda x: datetime.datetime.strptime(x, '%d/%m/%Y'))\n",
    "dates=dates[:230]"
   ]
  },
  {
   "cell_type": "code",
   "execution_count": 11,
   "metadata": {},
   "outputs": [],
   "source": [
    "m=[]\n",
    "c=1"
   ]
  },
  {
   "cell_type": "code",
   "execution_count": 12,
   "metadata": {},
   "outputs": [],
   "source": [
    "for i in range(7):\n",
    "  start_day=30*i\n",
    "  subtract_date=start_day-1 \n",
    "  end_day=start_day+29\n",
    "  month_count={}\n",
    "  state_data=data[data['Updated On']==dates[end_day]]\n",
    "  if subtract_date>=0:\n",
    "      \n",
    "      sub_data=data[data['Updated On']==dates[subtract_date]]\n",
    "      old_state_ids=sub_data['State'].values\n",
    "  state_ids=state_data['State'].values\n",
    "  for k in state_ids:\n",
    "      if k not in month_count.keys():\n",
    "        month_count[k]=[0,0]\n",
    "      x=state_data[state_data['State']==k]\n",
    "      if subtract_date>=0:\n",
    "        if k in old_state_ids: \n",
    "          month_count[k][0]=int(x['First Dose Administered'].values[0])-int(sub_data[sub_data['State']==k]['First Dose Administered'].values[0])\n",
    "          month_count[k][1]=int(x['Second Dose Administered'].values[0])-int(sub_data[sub_data['State']==k]['Second Dose Administered'].values[0])\n",
    "        else:\n",
    "          month_count[k][0]=int(x['First Dose Administered'].values[0])\n",
    "          month_count[k][1]=int(x['Second Dose Administered'].values[0])\n",
    "\n",
    "      else:\n",
    "        month_count[k][0]=int(x['First Dose Administered'].values[0])\n",
    "        month_count[k][1]=int(x['Second Dose Administered'].values[0])\n",
    "      m.append((k,'month'+str(c),month_count[k][0],month_count[k][1]))\n",
    "    \n",
    "  c+=1"
   ]
  },
  {
   "cell_type": "code",
   "execution_count": 13,
   "metadata": {},
   "outputs": [],
   "source": [
    "m=sorted(m, key = lambda x: x[0])"
   ]
  },
  {
   "cell_type": "code",
   "execution_count": 14,
   "metadata": {},
   "outputs": [],
   "source": [
    "m.insert(0,('State','Time Id','Dose 1','Dose 2',))"
   ]
  },
  {
   "cell_type": "code",
   "execution_count": 15,
   "metadata": {},
   "outputs": [],
   "source": [
    "file = open('../Generated/5/state-vaccinated-count-month.csv', 'w+', newline ='')\n",
    "  \n",
    "# writing the data into the file\n",
    "with file:    \n",
    "    write = csv.writer(file)\n",
    "    write.writerows(m)"
   ]
  },
  {
   "cell_type": "markdown",
   "metadata": {},
   "source": [
    "**For Overall Data**"
   ]
  },
  {
   "cell_type": "code",
   "execution_count": 16,
   "metadata": {},
   "outputs": [],
   "source": [
    "dates=list(set(data['Updated On'].values))\n",
    "dates=sorted(dates, key=lambda x: datetime.datetime.strptime(x, '%d/%m/%Y'))\n",
    "dates=dates[:217]"
   ]
  },
  {
   "cell_type": "code",
   "execution_count": 17,
   "metadata": {},
   "outputs": [],
   "source": [
    "overall=[]\n",
    "state_data=data[data['Updated On']==dates[-1]]"
   ]
  },
  {
   "cell_type": "code",
   "execution_count": 18,
   "metadata": {},
   "outputs": [],
   "source": [
    "for i in state_data['State']:\n",
    "    x1=state_data[state_data['State']==i]['First Dose Administered'].values[0]\n",
    "    x2=state_data[state_data['State']==i]['Second Dose Administered'].values[0]\n",
    "    overall.append((i,'Overall',x1,x2))"
   ]
  },
  {
   "cell_type": "code",
   "execution_count": 19,
   "metadata": {},
   "outputs": [],
   "source": [
    "overall.insert(0,('State','Time Id','Dose 1','Dose 2',))"
   ]
  },
  {
   "cell_type": "code",
   "execution_count": 20,
   "metadata": {},
   "outputs": [],
   "source": [
    "file = open('../Generated/5/state-vaccinated-count-overall.csv', 'w+', newline ='')\n",
    "  \n",
    "# writing the data into the file\n",
    "with file:    \n",
    "    write = csv.writer(file)\n",
    "    write.writerows(overall)"
   ]
  }
 ],
 "metadata": {
  "kernelspec": {
   "display_name": "Python 3",
   "language": "python",
   "name": "python3"
  },
  "language_info": {
   "codemirror_mode": {
    "name": "ipython",
    "version": 3
   },
   "file_extension": ".py",
   "mimetype": "text/x-python",
   "name": "python",
   "nbconvert_exporter": "python",
   "pygments_lexer": "ipython3",
   "version": "3.7.3"
  }
 },
 "nbformat": 4,
 "nbformat_minor": 2
}

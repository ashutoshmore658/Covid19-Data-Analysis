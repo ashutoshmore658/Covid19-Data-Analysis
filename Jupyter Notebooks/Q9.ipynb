{
 "cells": [
  {
   "cell_type": "markdown",
   "metadata": {},
   "source": [
    "**Loading Libraries**"
   ]
  },
  {
   "cell_type": "code",
   "execution_count": 1,
   "metadata": {},
   "outputs": [],
   "source": [
    "import numpy as np\n",
    "import pandas as pd\n",
    "import datetime\n"
   ]
  },
  {
   "cell_type": "markdown",
   "metadata": {},
   "source": [
    "**Loading Data**"
   ]
  },
  {
   "cell_type": "code",
   "execution_count": 2,
   "metadata": {},
   "outputs": [],
   "source": [
    "data=pd.read_csv('../Data/vaccination_data_state_wise.csv')"
   ]
  },
  {
   "cell_type": "code",
   "execution_count": 3,
   "metadata": {},
   "outputs": [],
   "source": [
    "dates=list(set(data['Updated On'].values))\n",
    "dates=sorted(dates, key=lambda x: datetime.datetime.strptime(x, '%d/%m/%Y'))\n",
    "dates=dates[:211]\n",
    "total_vaccination_days=211"
   ]
  },
  {
   "cell_type": "code",
   "execution_count": 4,
   "metadata": {},
   "outputs": [],
   "source": [
    "census=pd.read_excel('../Data/census.xlsx')"
   ]
  },
  {
   "cell_type": "markdown",
   "metadata": {},
   "source": [
    "**Preprocessing**"
   ]
  },
  {
   "cell_type": "code",
   "execution_count": 5,
   "metadata": {},
   "outputs": [],
   "source": [
    "census=census[(census['Level']=='STATE')&(census['TRU']=='Total')][['Name','TOT_P']]"
   ]
  },
  {
   "cell_type": "code",
   "execution_count": 6,
   "metadata": {},
   "outputs": [],
   "source": [
    "last_week_start_data=data[(data['State']!='India')&(data['Updated On']==dates[-8])].reset_index().drop('index',axis=1)"
   ]
  },
  {
   "cell_type": "code",
   "execution_count": 7,
   "metadata": {},
   "outputs": [],
   "source": [
    "state_vaccination=data[(data['State']!='India')&(data['Updated On']==dates[-1])]"
   ]
  },
  {
   "cell_type": "code",
   "execution_count": 8,
   "metadata": {},
   "outputs": [],
   "source": [
    "state_vaccination=state_vaccination[state_vaccination['State'].str.upper().isin(census['Name'].values)]\n",
    "state_vaccination=state_vaccination[['State','First Dose Administered']].reset_index().drop('index',axis=1)"
   ]
  },
  {
   "cell_type": "code",
   "execution_count": 9,
   "metadata": {},
   "outputs": [],
   "source": [
    "census=census[census['Name'].isin(state_vaccination['State'].str.upper())]"
   ]
  },
  {
   "cell_type": "code",
   "execution_count": 10,
   "metadata": {},
   "outputs": [],
   "source": [
    "census=census.sort_values('Name').reset_index().drop('index',axis=1)"
   ]
  },
  {
   "cell_type": "code",
   "execution_count": 11,
   "metadata": {},
   "outputs": [],
   "source": [
    "state_vaccination['Remaining Population']=census['TOT_P']-state_vaccination['First Dose Administered']"
   ]
  },
  {
   "cell_type": "code",
   "execution_count": 12,
   "metadata": {},
   "outputs": [],
   "source": [
    "last_week_start_data=last_week_start_data.merge(state_vaccination,on=['State'])"
   ]
  },
  {
   "cell_type": "code",
   "execution_count": 13,
   "metadata": {},
   "outputs": [],
   "source": [
    "state_vaccination['Rate']=(last_week_start_data['First Dose Administered_y']-last_week_start_data['First Dose Administered_x'])/7"
   ]
  },
  {
   "cell_type": "code",
   "execution_count": 14,
   "metadata": {},
   "outputs": [],
   "source": [
    "state_vaccination['Day To Complete Dose 1']=np.ceil(state_vaccination['Remaining Population']/state_vaccination['Rate'])"
   ]
  },
  {
   "cell_type": "code",
   "execution_count": 15,
   "metadata": {},
   "outputs": [],
   "source": [
    "state_vaccination['Date Of Complete']='14/08/2021'"
   ]
  },
  {
   "cell_type": "code",
   "execution_count": 16,
   "metadata": {},
   "outputs": [],
   "source": [
    "for i in range(state_vaccination.shape[0]):\n",
    "    start_date=datetime.datetime.strptime('14/08/2021', \"%d/%m/%Y\")\n",
    "    end_date=start_date+datetime.timedelta(days=int(state_vaccination['Day To Complete Dose 1'][i]))\n",
    "    state_vaccination.loc[i,['Date Of Complete']]=end_date.strftime(\"%d/%m/%Y\")"
   ]
  },
  {
   "cell_type": "markdown",
   "metadata": {},
   "source": [
    "**Converting To CSV**"
   ]
  },
  {
   "cell_type": "code",
   "execution_count": 17,
   "metadata": {},
   "outputs": [],
   "source": [
    "state_vaccination[['State','Remaining Population','Rate','Date Of Complete']].to_csv('../Generated/9/complete-vaccination.csv',index=False)"
   ]
  }
 ],
 "metadata": {
  "kernelspec": {
   "display_name": "Python 3",
   "language": "python",
   "name": "python3"
  },
  "language_info": {
   "codemirror_mode": {
    "name": "ipython",
    "version": 3
   },
   "file_extension": ".py",
   "mimetype": "text/x-python",
   "name": "python",
   "nbconvert_exporter": "python",
   "pygments_lexer": "ipython3",
   "version": "3.8.8"
  }
 },
 "nbformat": 4,
 "nbformat_minor": 2
}
